{
 "cells": [
  {
   "cell_type": "code",
   "execution_count": 6,
   "id": "d4725315",
   "metadata": {},
   "outputs": [
    {
     "name": "stdout",
     "output_type": "stream",
     "text": [
      "perimeter= 15.0\n"
     ]
    },
    {
     "data": {
      "text/plain": [
       "('Area of triangle is ', 154.14279094398154)"
      ]
     },
     "execution_count": 6,
     "metadata": {},
     "output_type": "execute_result"
    }
   ],
   "source": [
    "# 1.1 Write a Python Program(with class concepts) to find the area of the triangle using the below\n",
    "# formula.\n",
    "# area = (s*(s-a)*(s-b)*(s-c)) ** 0.5\n",
    "# Function to take the length of the sides of triangle from user should be defined in the parent\n",
    "# class and function to calculate the area should be defined in subclass.\n",
    "\n",
    "### Answer :-\n",
    "\n",
    "class triangle:\n",
    "    global s\n",
    "    def __init__(self,a,b,c):\n",
    "        self.a=a\n",
    "        self.b=b\n",
    "        self.c=c\n",
    "        s=(3*(a+b+c)/2)\n",
    "        print(\"perimeter=\", s)\n",
    "        self.s=s\n",
    "    def area(self):\n",
    "        return \"Area of triangle is \",((self.s*(self.s-self.a)*(self.s-self.b)*(self.s-self.c))**0.5)\n",
    "p=triangle(3,3,4)\n",
    "p.area() \n",
    "#         print(\"area\",t)\n",
    "#         return \"Area of triangle is %d\" %(t)\n",
    "    #def __str__(myself):\n",
    "        #return \"Area of triangle is %d\" %(myself.t)"
   ]
  },
  {
   "cell_type": "code",
   "execution_count": 4,
   "id": "e730cee4",
   "metadata": {},
   "outputs": [
    {
     "name": "stdout",
     "output_type": "stream",
     "text": [
      "The Expected words are =  ['tell']\n"
     ]
    }
   ],
   "source": [
    "# 1.2 Write a function filter_long_words() that takes a list of words and an integer n and returns\n",
    "# the list of words that are longer than n.\n",
    "\n",
    "def filter_long_words(w,n):\n",
    "    Expected=[]\n",
    "#     w=input(\"Write a words in list format = \")\n",
    "#     n=input(\"Write a words in list format = \")\n",
    "    for i in w:\n",
    "        if len(i)>n:\n",
    "            Expected.append(i)\n",
    "        else:\n",
    "            pass\n",
    "    print(\"The Expected words are = \",Expected)\n",
    "    \n",
    "filter_long_words([\"are\",\"the\",\"tell\",\"Yes\",\"No\"],3)"
   ]
  },
  {
   "cell_type": "code",
   "execution_count": 5,
   "id": "bb9dc61b",
   "metadata": {},
   "outputs": [
    {
     "data": {
      "text/plain": [
       "[3, 3, 4, 3, 2]"
      ]
     },
     "execution_count": 5,
     "metadata": {},
     "output_type": "execute_result"
    }
   ],
   "source": [
    "# 2.1 Write a Python program using function concept that maps list of words into a list of integers\n",
    "# representing the lengths of the corresponding words.\n",
    "\n",
    "def count_words(x):\n",
    "    return len(x)\n",
    "\n",
    "l=[\"are\",\"the\",\"tell\",\"Yes\",\"No\"]        \n",
    "list(map(count_words,l))"
   ]
  },
  {
   "cell_type": "code",
   "execution_count": 7,
   "id": "fdc7183f",
   "metadata": {},
   "outputs": [
    {
     "data": {
      "text/plain": [
       "[False, True, False, True, False, False]"
      ]
     },
     "execution_count": 7,
     "metadata": {},
     "output_type": "execute_result"
    }
   ],
   "source": [
    "# 2.2 Write a Python function which takes a character (i.e. a string of length 1) and returns True if\n",
    "# it is a vowel, False otherwise.\n",
    "\n",
    "def count_vowels(x):\n",
    "    for i in x:\n",
    "        if i==\"a\":\n",
    "            return True\n",
    "        elif i==\"e\":\n",
    "            return True\n",
    "        elif i==\"i\":\n",
    "            return True\n",
    "        elif i==\"o\":\n",
    "            return True\n",
    "        elif i==\"u\":\n",
    "            return True\n",
    "        else:\n",
    "            return False\n",
    "w=\"vowels\"\n",
    "list(map(count_vowels,w))"
   ]
  },
  {
   "cell_type": "code",
   "execution_count": null,
   "id": "9bc40f3e",
   "metadata": {},
   "outputs": [],
   "source": []
  }
 ],
 "metadata": {
  "kernelspec": {
   "display_name": "Python 3",
   "language": "python",
   "name": "python3"
  },
  "language_info": {
   "codemirror_mode": {
    "name": "ipython",
    "version": 3
   },
   "file_extension": ".py",
   "mimetype": "text/x-python",
   "name": "python",
   "nbconvert_exporter": "python",
   "pygments_lexer": "ipython3",
   "version": "3.8.8"
  }
 },
 "nbformat": 4,
 "nbformat_minor": 5
}
