{
 "cells": [
  {
   "cell_type": "code",
   "execution_count": 250,
   "id": "e8ecde94",
   "metadata": {},
   "outputs": [
    {
     "ename": "NameError",
     "evalue": "name 'x' is not defined",
     "output_type": "error",
     "traceback": [
      "\u001b[1;31m---------------------------------------------------------------------------\u001b[0m",
      "\u001b[1;31mNameError\u001b[0m                                 Traceback (most recent call last)",
      "\u001b[1;32m<ipython-input-250-5112fcf9be7b>\u001b[0m in \u001b[0;36m<module>\u001b[1;34m\u001b[0m\n\u001b[0;32m     11\u001b[0m         \u001b[0mx\u001b[0m\u001b[1;33m=\u001b[0m\u001b[0madd\u001b[0m\u001b[1;33m(\u001b[0m\u001b[0mx\u001b[0m\u001b[1;33m,\u001b[0m\u001b[0ml\u001b[0m\u001b[1;33m[\u001b[0m\u001b[0mi\u001b[0m\u001b[1;33m]\u001b[0m\u001b[1;33m)\u001b[0m\u001b[1;33m\u001b[0m\u001b[1;33m\u001b[0m\u001b[0m\n\u001b[0;32m     12\u001b[0m \u001b[1;33m\u001b[0m\u001b[0m\n\u001b[1;32m---> 13\u001b[1;33m \u001b[0mprint\u001b[0m\u001b[1;33m(\u001b[0m\u001b[0mx\u001b[0m\u001b[1;33m)\u001b[0m\u001b[1;33m\u001b[0m\u001b[1;33m\u001b[0m\u001b[0m\n\u001b[0m",
      "\u001b[1;31mNameError\u001b[0m: name 'x' is not defined"
     ]
    }
   ],
   "source": [
    "# 1.1 Write a Python Program to implement your own myreduce() function which works exactly \n",
    "# like Python's built-in function reduce().\n",
    "def add(x,y):\n",
    "    x=x+y\n",
    "    return x\n",
    "\n",
    "l=[1,2,3]\n",
    "def myreduce(sum,l,start):\n",
    "    x=l[0]+start\n",
    "    for i in range(1,len(l)):\n",
    "        x=add(x,l[i])\n",
    "    \n",
    "print(x)"
   ]
  },
  {
   "cell_type": "code",
   "execution_count": 1,
   "id": "03b4f921",
   "metadata": {},
   "outputs": [
    {
     "name": "stdout",
     "output_type": "stream",
     "text": [
      "[1, 2, 3, 5, 7]\n"
     ]
    }
   ],
   "source": [
    "# 1.2 Write a Python program to implement your own myfilter() function which works exactly\n",
    "# like Python's built-in function filter().\n",
    "## Answer:-\n",
    "### First create function for prime numbers:-\n",
    "def prime(x):\n",
    "    if x==2 or x==3 or x==1:\n",
    "        return x\n",
    "    elif x%2!=0 and x%3!=0:\n",
    "        return x\n",
    "    else:\n",
    "        return\n",
    "    \n",
    "### Second create myfilter() Function:-\n",
    "def myfilter(prime,l):\n",
    "    y=[]\n",
    "    for i in range(len(l)):\n",
    "        x=l[i]\n",
    "        x=prime(x)\n",
    "        if x==None:\n",
    "            pass\n",
    "        else:\n",
    "            y.append(x)\n",
    "        \n",
    "    print(y)\n",
    "    \n",
    "# Example:-\n",
    "myfilter(prime,[1,2,3,4,5,6,7,8,9,10])"
   ]
  },
  {
   "cell_type": "code",
   "execution_count": 98,
   "id": "56a15035",
   "metadata": {
    "scrolled": true
   },
   "outputs": [
    {
     "name": "stdout",
     "output_type": "stream",
     "text": [
      "['x', 'y', 'z', 'xx', 'yy', 'zz', 'xxx', 'yyy', 'zzz', 'xxxx', 'yyyy', 'zzzz']\n"
     ]
    }
   ],
   "source": [
    "# 2. Implement List comprehensions to produce the following lists.\n",
    "# Write List comprehensions to produce the following Lists.\n",
    "# Scrap\n",
    "# Example:- ['x', 'xx', 'xxx', 'xxxx', 'y', 'yy', 'yyy', 'yyyy', 'z', 'zz', 'zzz', 'zzzz']\n",
    "# Answer:- [ if i<=4: print('x'*i) elif i<=8: print('y'*(7-i)) else: print('z'*(7-i)) for i in range(1 to 13) ]\n",
    "#  [[j for j in range(5)] for i in range(3)]\n",
    "# [print('x'*i, end=\", \") if i<=4 else print('y'*(i-4), end=\", \") for i in range(1,13) ]\n",
    "# hi=[print(str(i*j), end=\", \") for j in range(1,5) for i in \"xyz\"]\n",
    "# print (hi)"
   ]
  },
  {
   "cell_type": "code",
   "execution_count": 246,
   "id": "87bcdaa0",
   "metadata": {},
   "outputs": [
    {
     "name": "stdout",
     "output_type": "stream",
     "text": [
      "['x', 'xx', 'xxx', 'xxxx', 'y', 'yy', 'yyy', 'yyyy', 'z', 'zz', 'zzz', 'zzzz']\n"
     ]
    }
   ],
   "source": [
    "Answer2_1= [ 'x'*i if i<=4 else 'y'*(i-4) if i<=8 else 'z'*(i-8) for i in range(1,13) ]\n",
    "print (Answer2_1)"
   ]
  },
  {
   "cell_type": "code",
   "execution_count": 245,
   "id": "5b5027ee",
   "metadata": {},
   "outputs": [
    {
     "name": "stdout",
     "output_type": "stream",
     "text": [
      "['x', 'y', 'z', 'xx', 'yy', 'zz', 'xxx', 'yyy', 'zzz', 'xxxx', 'yyyy', 'zzzz']\n"
     ]
    }
   ],
   "source": [
    "Answer2_2=[(j*i) for j in range(1,5) for i in \"xyz\"]\n",
    "print (Answer2_2)"
   ]
  },
  {
   "cell_type": "code",
   "execution_count": 243,
   "id": "6741756f",
   "metadata": {},
   "outputs": [
    {
     "name": "stdout",
     "output_type": "stream",
     "text": [
      "([[2], [3], [4], [3], [4], [5], [4], [5], [6]], [[2, 3, 4, 5], [3, 4, 5, 6], [4, 5, 6, 7], [5, 6, 7, 8]])\n"
     ]
    }
   ],
   "source": [
    "Answer2_3=[([j+i]) for j in range(1,4) for i in range(1,4)],[[(j+i) for j in range(1,5)] for i in range(1,5)]\n",
    "print(Answer2_3)"
   ]
  },
  {
   "cell_type": "code",
   "execution_count": 242,
   "id": "be0e7734",
   "metadata": {},
   "outputs": [
    {
     "name": "stdout",
     "output_type": "stream",
     "text": [
      "[(1, 1), (2, 1), (3, 1), (1, 2), (2, 2), (3, 2), (1, 3), (2, 3), (3, 3)]\n"
     ]
    }
   ],
   "source": [
    "Answer2_4= [ (i,j) for j in range(1,4) for i in range(1,4) ]\n",
    "print(Answer2_4)"
   ]
  },
  {
   "cell_type": "code",
   "execution_count": null,
   "id": "50958284",
   "metadata": {},
   "outputs": [],
   "source": []
  },
  {
   "cell_type": "code",
   "execution_count": null,
   "id": "cfff98e8",
   "metadata": {},
   "outputs": [],
   "source": []
  },
  {
   "cell_type": "code",
   "execution_count": null,
   "id": "d42414ee",
   "metadata": {},
   "outputs": [],
   "source": []
  },
  {
   "cell_type": "code",
   "execution_count": null,
   "id": "7bbcc529",
   "metadata": {
    "scrolled": true
   },
   "outputs": [],
   "source": []
  },
  {
   "cell_type": "code",
   "execution_count": null,
   "id": "4735df48",
   "metadata": {},
   "outputs": [],
   "source": []
  },
  {
   "cell_type": "code",
   "execution_count": null,
   "id": "893c44b2",
   "metadata": {},
   "outputs": [],
   "source": []
  }
 ],
 "metadata": {
  "kernelspec": {
   "display_name": "Python 3",
   "language": "python",
   "name": "python3"
  },
  "language_info": {
   "codemirror_mode": {
    "name": "ipython",
    "version": 3
   },
   "file_extension": ".py",
   "mimetype": "text/x-python",
   "name": "python",
   "nbconvert_exporter": "python",
   "pygments_lexer": "ipython3",
   "version": "3.8.8"
  }
 },
 "nbformat": 4,
 "nbformat_minor": 5
}
